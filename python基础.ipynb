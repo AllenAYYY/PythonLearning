{
 "cells": [
  {
   "cell_type": "code",
   "execution_count": 1,
   "id": "d2fa64ad",
   "metadata": {},
   "outputs": [
    {
     "name": "stdout",
     "output_type": "stream",
     "text": [
      "float_variable 是:1.0, int_variable 是:1，二者相加结果是:2.0\n"
     ]
    }
   ],
   "source": [
    "float_variable = 1.0 # 浮点型\n",
    "int_variable = 1 # 整形\n",
    "string_variable = \"Hello, i am fine.\"\n",
    "\n",
    "print(f\"float_variable 是:{float_variable}, int_variable 是:{int_variable}，二者相加结果是:{float_variable+int_variable}\")"
   ]
  },
  {
   "cell_type": "code",
   "execution_count": 5,
   "id": "2a89f34d",
   "metadata": {},
   "outputs": [
    {
     "name": "stdout",
     "output_type": "stream",
     "text": [
      " o\n",
      "hina\n",
      "hina.\n",
      "I come from China.What about u?\n",
      "I come from China.I come from China.\n",
      "False\n",
      "True\n"
     ]
    }
   ],
   "source": [
    "\n",
    "# 字符串运算\n",
    "str_original = \"I come from China.\"\n",
    "# 空格也算字符，会占位\n",
    "# 最大取值范围不包括该值\n",
    "# 第三个参数代表步长step，可以省略\n",
    "print(str_original[1:5:2])\n",
    "print(str_original[-5:-1])\n",
    "print(str_original[-5:])\n",
    "\n",
    "str_original_2 = \"What about u?\"\n",
    "\n",
    "# 字符串相关操作\n",
    "print(str_original + str_original_2)\n",
    "print(str_original * 2)\n",
    "print(\"*\" in str_original)\n",
    "print(\"I\" in str_original)\n"
   ]
  },
  {
   "cell_type": "code",
   "execution_count": 6,
   "id": "6ca0c6c3",
   "metadata": {},
   "outputs": [
    {
     "name": "stdout",
     "output_type": "stream",
     "text": [
      "1\n",
      "4\n",
      "18\n",
      "I COME FROM CHINA.\n",
      "I coooool from China.\n",
      "['I', 'come', 'from', 'China.']\n"
     ]
    }
   ],
   "source": [
    "# 统计子字符串在原字符串中出现次数\n",
    "print(str_original.count(\"come\"))\n",
    "# 查找第一次出现的位置索引\n",
    "print(str_original.find(\"me\"))\n",
    "print(len(str_original))\n",
    "print(str_original.upper())\n",
    "print(str_original.replace(\"come\",\"coooool\"))\n",
    "print(str_original.split(\" \"))"
   ]
  },
  {
   "cell_type": "code",
   "execution_count": 7,
   "id": "f379f981",
   "metadata": {},
   "outputs": [
    {
     "name": "stdout",
     "output_type": "stream",
     "text": [
      "['i', 'am', 123, [1, 2, 3]]\n",
      "['i', 'am', 123, [1, 2, 3], 'i', 'am', 123, [1, 2, 3], 'i', 'am', 123, [1, 2, 3]]\n",
      "[1, 2, 1, 2, 1, 2]\n",
      "True\n",
      "1 2 3 \n"
     ]
    }
   ],
   "source": [
    "# 列表\n",
    "list_A = ['i','am',123,[1,2,3]]\n",
    "print(list_A)\n",
    "print(list_A * 3)\n",
    "print([1,2] * 3)\n",
    "print( 3 in [1,2,3])\n",
    "for x in [1,2,3]:\n",
    "    print(x,end=\" \")\n",
    "print()"
   ]
  },
  {
   "cell_type": "code",
   "execution_count": 8,
   "id": "b1b15ab2",
   "metadata": {},
   "outputs": [
    {
     "name": "stdout",
     "output_type": "stream",
     "text": [
      "['i', 'am', 123, [1, 2, 3], '1']\n",
      "1\n",
      "['i', 'am', 123, [1, 2, 3], '1', 1, 2, 3]\n",
      "5\n",
      "['Yang', 'i', 'am', 123, [1, 2, 3], '1', 1, 2, 3]\n",
      "am\n",
      "['Yang', 'i', 123, [1, 2, 3], '1', 1, 2, 3]\n"
     ]
    }
   ],
   "source": [
    "# 列表末尾添加对象\n",
    "list_A.append(\"1\")\n",
    "print(list_A)\n",
    "\n",
    "# 统计某个元素在列表中出现的次数\n",
    "print(list_A.count(123))\n",
    "\n",
    "# 在列表中扩展另一个列表中的元素\n",
    "list_A.extend([1,2,3])\n",
    "print(list_A)\n",
    "\n",
    "# 从列表中找出某一个值第一个匹配项索引的位置\n",
    "print(list_A.index(1))\n",
    "\n",
    "# 将对象插入列表\n",
    "list_A.insert(0,\"Yang\")\n",
    "print(list_A)\n",
    "\n",
    "# 弹出列表元素\n",
    "pop_value = list_A.pop(2)\n",
    "print(pop_value)\n",
    "print(list_A)"
   ]
  },
  {
   "cell_type": "code",
   "execution_count": 13,
   "id": "aacf9428",
   "metadata": {},
   "outputs": [
    {
     "name": "stdout",
     "output_type": "stream",
     "text": [
      "['a', 'ca', 'cb']\n",
      "[9, 7, 5, 2, 3]\n",
      "[2, 3, 5, 7, 9]\n",
      "[9, 7, 5, 3, 2]\n"
     ]
    }
   ],
   "source": [
    "# 排序\n",
    "list_string = ['a','cb','ca']\n",
    "list_string.sort()\n",
    "print(list_string)\n",
    "list_num = [3,2,5,7,9]\n",
    "list_num.reverse()\n",
    "print(list_num)\n",
    "list_num.sort(reverse=False)\n",
    "print(list_num)\n",
    "list_num.sort(reverse=True)\n",
    "print(list_num)"
   ]
  },
  {
   "cell_type": "code",
   "execution_count": 16,
   "id": "8de1cb1d",
   "metadata": {},
   "outputs": [
    {
     "name": "stdout",
     "output_type": "stream",
     "text": [
      "Kong\n",
      "{1: 'Yang', 2: 'Wang', 3: 'Yu', 'haha': '123456', 5: 'Zhao', 100: 'Cat'}\n",
      "{2: 'Wang', 3: 'Yu', 'haha': '123456', 5: 'Zhao', 100: 'Cat'}\n",
      "{'name': 'Allen', 'phone': 123, 'address': 'China'}\n",
      "aaa\n"
     ]
    }
   ],
   "source": [
    "# 字典变量\n",
    "# 字典形式为 key=>value，键:值\n",
    "dict_lastName = {1:\"Yang\",2:\"Wang\",3:\"Yu\",'haha':\"Kong\",5:\"Zhao\"}\n",
    "dict_lastName[100] = 'Cat'\n",
    "print(dict_lastName['haha'])\n",
    "dict_lastName['haha'] = \"123456\"\n",
    "print(dict_lastName)\n",
    "\n",
    "# 删除键\n",
    "del dict_lastName[1]\n",
    "print(dict_lastName)\n",
    "\n",
    "# 打包创建字典\n",
    "dict_test = {}\n",
    "list_key = ['name','phone','address']\n",
    "list_value = ['Allen',123,'China']\n",
    "key_value_pairs = zip(list_key,list_value)\n",
    "dict_result = dict(key_value_pairs)\n",
    "print(dict_result)\n",
    "\n",
    "# get返回值,找到name1键则返回name1键对应的值，不然返回后面的默认值\n",
    "print(dict_result.get('name1',\"aaa\"))"
   ]
  },
  {
   "cell_type": "code",
   "execution_count": 17,
   "id": "526d37cc",
   "metadata": {},
   "outputs": [
    {
     "name": "stdout",
     "output_type": "stream",
     "text": [
      "wrong\n"
     ]
    }
   ],
   "source": [
    "# match case 用法\n",
    "status = 40\n",
    "match status:\n",
    "    case 400:\n",
    "        print(\"status is 400\")\n",
    "    case 401:\n",
    "        print(\"status is 401\")\n",
    "    case 402:\n",
    "        print(\"status is 402\")\n",
    "    case 403:\n",
    "        print(\"status is 403\")\n",
    "    case _:\n",
    "        print(\"wrong\")"
   ]
  },
  {
   "cell_type": "code",
   "execution_count": 18,
   "id": "660fcd4f",
   "metadata": {},
   "outputs": [
    {
     "name": "stdout",
     "output_type": "stream",
     "text": [
      "0  小于 5\n",
      "1  小于 5\n",
      "2  小于 5\n",
      "3  小于 5\n",
      "4  小于 5\n",
      "5  大于或等于 5\n",
      "0\n",
      "1\n",
      "2\n",
      "3\n",
      "4\n",
      "5\n",
      "Finally finished!\n"
     ]
    }
   ],
   "source": [
    "# while else用法\n",
    "count = 0\n",
    "while count < 5:\n",
    "   print (count, \" 小于 5\")\n",
    "   count = count + 1\n",
    "else:\n",
    "   print (count, \" 大于或等于 5\")\n",
    "\n",
    "# for else用法\n",
    "for x in range(6):\n",
    "  print(x)\n",
    "else:\n",
    "  print(\"Finally finished!\")\n"
   ]
  },
  {
   "cell_type": "code",
   "execution_count": 19,
   "id": "5d1853e3",
   "metadata": {},
   "outputs": [
    {
     "name": "stdout",
     "output_type": "stream",
     "text": [
      "4\n",
      "3\n",
      "循环结束。\n",
      "4\n",
      "3\n",
      "1\n",
      "0\n",
      "循环结束。\n"
     ]
    }
   ],
   "source": [
    "# break和continue\n",
    "# break直接跳出所有循环\n",
    "# continue只跳过当前轮次，继续进行后续的循环\n",
    "n = 5\n",
    "while n > 0:\n",
    "    n -= 1\n",
    "    if n == 2:\n",
    "        break\n",
    "    print(n)\n",
    "print('循环结束。')\n",
    "\n",
    "n = 5\n",
    "while n > 0:\n",
    "    n -= 1\n",
    "    if n == 2:\n",
    "        continue\n",
    "    print(n)\n",
    "print('循环结束。')"
   ]
  },
  {
   "cell_type": "code",
   "execution_count": 20,
   "id": "587c7571",
   "metadata": {},
   "outputs": [
    {
     "name": "stdout",
     "output_type": "stream",
     "text": [
      "['ALICE', 'WENDY', 'SMITH']\n",
      "{2: 4, 4: 16, 6: 36}\n"
     ]
    }
   ],
   "source": [
    "# 推导式\n",
    "names = ['Bob','Tom','alice','Jerry','Wendy','Smith']\n",
    "new_names = [name.upper() for name in names if len(name)>3 and name != 'Jerry']\n",
    "print(new_names)\n",
    "dic = {x: x**2 for x in (2, 4, 6)}\n",
    "print(dic)"
   ]
  },
  {
   "cell_type": "code",
   "execution_count": 21,
   "id": "1a4922fa",
   "metadata": {},
   "outputs": [
    {
     "name": "stdout",
     "output_type": "stream",
     "text": [
      "30\n",
      "[1, 4, 9, 16, 25]\n",
      "[2, 4, 6, 8]\n",
      "120\n"
     ]
    }
   ],
   "source": [
    "# lambda表达式，lambda 参数1,参数2: 运算\n",
    "x = lambda a, b : a * b\n",
    "print(x(5, 6))\n",
    "\n",
    "# map联用，对列表里每一个元素应用函数运算\n",
    "numbers = [1, 2, 3, 4, 5]\n",
    "squared = list(map(lambda x: x**2, numbers))\n",
    "print(squared)\n",
    "\n",
    "# filter过滤\n",
    "numbers = [1, 2, 3, 4, 5, 6, 7, 8]\n",
    "even_numbers = list(filter(lambda x: x % 2 == 0, numbers))\n",
    "print(even_numbers)\n",
    "\n",
    "# reduce对list元素进行累计计算\n",
    "from functools import reduce\n",
    "\n",
    "numbers = [1, 2, 3, 4, 5]\n",
    "product = reduce(lambda x, y: x * y, numbers)\n",
    "print(product)"
   ]
  },
  {
   "cell_type": "code",
   "execution_count": null,
   "id": "9853ec71",
   "metadata": {},
   "outputs": [],
   "source": []
  }
 ],
 "metadata": {
  "kernelspec": {
   "display_name": "Python 3 (ipykernel)",
   "language": "python",
   "name": "python3"
  },
  "language_info": {
   "codemirror_mode": {
    "name": "ipython",
    "version": 3
   },
   "file_extension": ".py",
   "mimetype": "text/x-python",
   "name": "python",
   "nbconvert_exporter": "python",
   "pygments_lexer": "ipython3",
   "version": "3.11.4"
  }
 },
 "nbformat": 4,
 "nbformat_minor": 5
}
