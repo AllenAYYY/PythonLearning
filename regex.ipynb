{
 "cells": [
  {
   "cell_type": "markdown",
   "id": "3c8f7b2e",
   "metadata": {},
   "source": [
    "\\d 匹配任意一个数字(0-9)\n",
    "\n",
    "\\D 匹配任意一个非数字字符\n",
    "\n",
    "^ 匹配行的开始\n",
    "\n",
    "$ 匹配行的结束"
   ]
  },
  {
   "cell_type": "code",
   "execution_count": 10,
   "id": "5ae1bbf9",
   "metadata": {},
   "outputs": [
    {
     "name": "stdout",
     "output_type": "stream",
     "text": [
      "匹配成功！匹配到的结果字符串为 123\n"
     ]
    }
   ],
   "source": [
    "# 正则表达式使用re库校验\n",
    "import re\n",
    "\n",
    "# 正则表达式模式\n",
    "pattern = r\"\\d+\"\n",
    "\n",
    "# 定义测试文本\n",
    "text = \"Hello,123 world\"\n",
    "\n",
    "# re模块的match函数进行匹配测试\n",
    "match = re.search(pattern,text)\n",
    "\n",
    "if match:\n",
    "    matched_string = match.group()   # 获取匹配结果\n",
    "    print(f\"匹配成功！匹配到的结果字符串为\",matched_string)\n",
    "else:\n",
    "    print(\"匹配失败\")\n",
    "    "
   ]
  },
  {
   "cell_type": "markdown",
   "id": "f460ea16",
   "metadata": {},
   "source": [
    ".匹配任意一个字符（换行除外）\n",
    "\n",
    "[]定义一个字符集，匹配括号内任意一个字符\n",
    "\n",
    "[\\^]字符集的补集，匹配除括号内字符之外的任意一个字符"
   ]
  },
  {
   "cell_type": "code",
   "execution_count": 23,
   "id": "1894d560",
   "metadata": {},
   "outputs": [
    {
     "name": "stdout",
     "output_type": "stream",
     "text": [
      "匹配成功！匹配到的结果字符串为： Hello\n"
     ]
    }
   ],
   "source": [
    "\n",
    "# 正则表达式模式\n",
    "\n",
    "# H.0中间的.表示任意一个字符，.后面加*表示.重复0次及以上\n",
    "# 到此打印的结果是Hello,123 wo，而不是Hello\n",
    "# 这是因为正则表达式量词是贪婪的，会尽可能匹配多的字符，因此会匹配到wo而不是Hello\n",
    "# 我们在.*后面加上？ 表示前面的子表达式重复0次或者1次，以此达到最小的结果\n",
    "pattern = r\"H.*?o\"\n",
    "\n",
    "# 定义测试文本\n",
    "text = \"Hello,123,ooo world\"\n",
    "\n",
    "# re模块的match函数进行匹配测试\n",
    "match = re.search(pattern,text)\n",
    "\n",
    "if match:\n",
    "    matched_string = match.group()   # 获取匹配结果\n",
    "    print(f\"匹配成功！匹配到的结果字符串为：\",matched_string)\n",
    "else:\n",
    "    print(\"匹配失败\")\n",
    "    "
   ]
  },
  {
   "cell_type": "code",
   "execution_count": 59,
   "id": "87c10ad2",
   "metadata": {},
   "outputs": [
    {
     "name": "stdout",
     "output_type": "stream",
     "text": [
      "匹配成功！匹配到的结果字符串为： 123\n"
     ]
    }
   ],
   "source": [
    "\n",
    "# 正则表达式模式\n",
    "\n",
    "# []符号代表字符集，做匹配时只要和字符集中任意一个元素匹配上就可以\n",
    "# [abc]匹配字符 a  b   c中的任意一个\n",
    "# [0-9]匹配数字字符0到9中的任意一个\n",
    "# [a-z]匹配英文字母中的小写任意一个\n",
    "# [^]取反操作，不取[]字符集中的元素。如[^0-9]匹配任意一个非数字字符\n",
    "# {min,max}表示前面的字符串出现的最小次数和最大次数。\n",
    "# {3}代表恰好出现三次\n",
    "# {3,}代表出现三次及以上\n",
    "# {3,4}代表出现3-4次\n",
    "pattern = r\"[1-9]{3,}\"\n",
    "# pattern = r\"e[el]?\"\n",
    "# pattern = r\"e[^el]+\"\n",
    "# 定义测试文本\n",
    "text = \"Heello,123,ooo world\"\n",
    "\n",
    "# re模块的match函数进行匹配测试\n",
    "match = re.search(pattern,text)\n",
    "\n",
    "if match:\n",
    "    matched_string = match.group()   # 获取匹配结果\n",
    "    print(f\"匹配成功！匹配到的结果字符串为：\",matched_string)\n",
    "else:\n",
    "    print(\"匹配失败\")\n",
    "    "
   ]
  },
  {
   "cell_type": "code",
   "execution_count": 57,
   "id": "a7980ea0",
   "metadata": {},
   "outputs": [
    {
     "name": "stdout",
     "output_type": "stream",
     "text": [
      "匹配成功！匹配到的结果字符串为： 123-4567\n"
     ]
    }
   ],
   "source": [
    "\n",
    "# 正则表达式模式\n",
    "\n",
    "# |是或操作，匹配上其中一个条件就可以\n",
    "pattern = r\"\\d{3}-\\d{4}|\\d{7}\"\n",
    "# pattern = r\"e[el]?\"\n",
    "# pattern = r\"e[^el]+\"\n",
    "# 定义测试文本\n",
    "text = \"Heello,123-4567\"\n",
    "\n",
    "# re模块的match函数进行匹配测试\n",
    "match = re.search(pattern,text)\n",
    "\n",
    "if match:\n",
    "    matched_string = match.group()   # 获取匹配结果\n",
    "    print(f\"匹配成功！匹配到的结果字符串为：\",matched_string)\n",
    "else:\n",
    "    print(\"匹配失败\")"
   ]
  },
  {
   "cell_type": "markdown",
   "id": "9b09fa54",
   "metadata": {},
   "source": [
    "re关于正则表达式的几个常用函数\n"
   ]
  },
  {
   "cell_type": "code",
   "execution_count": 61,
   "id": "65cc0c43",
   "metadata": {},
   "outputs": [
    {
     "name": "stdout",
     "output_type": "stream",
     "text": [
      "匹配成功！匹配到的结果字符串为： hello\n"
     ]
    }
   ],
   "source": [
    "# match，返回第一个匹配的结果\n",
    "import re\n",
    "\n",
    "pattern = r\"hello\"\n",
    "string = \"hello world\"\n",
    "\n",
    "match = re.match(pattern, string)\n",
    "if match:\n",
    "    matched_string = match.group()   # 获取匹配结果\n",
    "    print(f\"匹配成功！匹配到的结果字符串为：\",matched_string)\n",
    "else:\n",
    "    print(\"匹配失败\")"
   ]
  },
  {
   "cell_type": "code",
   "execution_count": 63,
   "id": "dcc8e66e",
   "metadata": {},
   "outputs": [
    {
     "name": "stdout",
     "output_type": "stream",
     "text": [
      "匹配成功！匹配到的结果字符串为： world\n"
     ]
    }
   ],
   "source": [
    "# search从字符串中搜索第一个匹配模式的位置，只返回第一个匹配的结果\n",
    "import re\n",
    "\n",
    "pattern = r\"world\"\n",
    "string = \"hello world\"\n",
    "\n",
    "match = re.search(pattern, string)\n",
    "if match:\n",
    "    matched_string = match.group()   # 获取匹配结果\n",
    "    print(f\"匹配成功！匹配到的结果字符串为：\",matched_string)\n",
    "else:\n",
    "    print(\"匹配失败\")"
   ]
  },
  {
   "cell_type": "code",
   "execution_count": 64,
   "id": "3cf843ea",
   "metadata": {},
   "outputs": [
    {
     "name": "stdout",
     "output_type": "stream",
     "text": [
      "['12', '34', '56']\n"
     ]
    }
   ],
   "source": [
    "# findall在字符串中找到所有酦醅模式的位置，返回一个包含所有结果的列表\n",
    "\n",
    "import re\n",
    "\n",
    "pattern = r\"\\d+\"\n",
    "string = \"12 apples, 34 oranges, 56 bananas\"\n",
    "\n",
    "matches = re.findall(pattern, string)\n",
    "print(matches)  # 输出: ['12', '34', '56']"
   ]
  },
  {
   "cell_type": "code",
   "execution_count": 65,
   "id": "53ebceae",
   "metadata": {},
   "outputs": [
    {
     "name": "stdout",
     "output_type": "stream",
     "text": [
      "12\n",
      "34\n",
      "56\n"
     ]
    }
   ],
   "source": [
    "# finditer找到所有匹配模式的位置，返回一个包含所有结果的迭代器\n",
    "import re\n",
    "\n",
    "pattern = r\"\\d+\"\n",
    "string = \"12 apples, 34 oranges, 56 bananas\"\n",
    "\n",
    "matches = re.finditer(pattern, string)\n",
    "for match in matches:\n",
    "    print(match.group())  # 输出每个匹配到的结果字符串"
   ]
  },
  {
   "cell_type": "code",
   "execution_count": 67,
   "id": "5d049c79",
   "metadata": {},
   "outputs": [
    {
     "name": "stdout",
     "output_type": "stream",
     "text": [
      "['Hello', 'World', 'Python']\n"
     ]
    }
   ],
   "source": [
    "# split 返回一个列表，其中包含拆分后的子字符串\n",
    "# \\s匹配任意k\n",
    "import re\n",
    "\n",
    "pattern = r\"\\s+\"\n",
    "string = \"Hello   World  Python\"\n",
    "\n",
    "result = re.split(pattern, string)\n",
    "print(result)"
   ]
  },
  {
   "cell_type": "code",
   "execution_count": null,
   "id": "92684196",
   "metadata": {},
   "outputs": [],
   "source": []
  }
 ],
 "metadata": {
  "kernelspec": {
   "display_name": "Python 3 (ipykernel)",
   "language": "python",
   "name": "python3"
  },
  "language_info": {
   "codemirror_mode": {
    "name": "ipython",
    "version": 3
   },
   "file_extension": ".py",
   "mimetype": "text/x-python",
   "name": "python",
   "nbconvert_exporter": "python",
   "pygments_lexer": "ipython3",
   "version": "3.11.4"
  }
 },
 "nbformat": 4,
 "nbformat_minor": 5
}
